{
 "cells": [
  {
   "cell_type": "code",
   "execution_count": 3,
   "metadata": {},
   "outputs": [],
   "source": [
    "import numpy "
   ]
  },
  {
   "cell_type": "code",
   "execution_count": 2,
   "metadata": {},
   "outputs": [],
   "source": [
    "import pandas"
   ]
  },
  {
   "cell_type": "code",
   "execution_count": 4,
   "metadata": {},
   "outputs": [
    {
     "name": "stdout",
     "output_type": "stream",
     "text": [
      "Name: scikit-image\r\n",
      "Version: 0.16.2\r\n",
      "Summary: Image processing routines for SciPy\r\n",
      "Home-page: https://scikit-image.org\r\n",
      "Author: None\r\n",
      "Author-email: None\r\n",
      "License: Modified BSD\r\n",
      "Location: /home/yupaporn/miniconda3/envs/eff/lib/python3.6/site-packages\r\n",
      "Requires: pillow, PyWavelets, scipy, matplotlib, networkx, imageio\r\n",
      "Required-by: \r\n"
     ]
    }
   ],
   "source": [
    "!pip show scikit-image"
   ]
  },
  {
   "cell_type": "code",
   "execution_count": 10,
   "metadata": {},
   "outputs": [
    {
     "name": "stdout",
     "output_type": "stream",
     "text": [
      "Name: numpy\r\n",
      "Version: 1.18.4\r\n",
      "Summary: NumPy is the fundamental package for array computing with Python.\r\n",
      "Home-page: https://www.numpy.org\r\n",
      "Author: Travis E. Oliphant et al.\r\n",
      "Author-email: None\r\n",
      "License: BSD\r\n",
      "Location: /home/yupaporn/miniconda3/envs/eff/lib/python3.6/site-packages\r\n",
      "Requires: \r\n",
      "Required-by: tifffile, tensorflow, tensorboard, scipy, scikit-learn, PyWavelets, pandas, opt-einsum, mkl-random, mkl-fft, matplotlib, Keras, Keras-Preprocessing, Keras-Applications, imageio, imagecodecs, h5py\r\n"
     ]
    }
   ],
   "source": [
    "!pip show numpy "
   ]
  },
  {
   "cell_type": "code",
   "execution_count": 6,
   "metadata": {},
   "outputs": [
    {
     "name": "stderr",
     "output_type": "stream",
     "text": [
      "Using TensorFlow backend.\n"
     ]
    }
   ],
   "source": [
    "from keras_efficientnets import EfficientNetB0"
   ]
  },
  {
   "cell_type": "code",
   "execution_count": 7,
   "metadata": {},
   "outputs": [
    {
     "name": "stdout",
     "output_type": "stream",
     "text": [
      "Name: Keras\r\n",
      "Version: 2.3.1\r\n",
      "Summary: Deep Learning for humans\r\n",
      "Home-page: https://github.com/keras-team/keras\r\n",
      "Author: Francois Chollet\r\n",
      "Author-email: francois.chollet@gmail.com\r\n",
      "License: MIT\r\n",
      "Location: /home/yupaporn/miniconda3/envs/eff/lib/python3.6/site-packages\r\n",
      "Requires: six, scipy, keras-applications, h5py, numpy, keras-preprocessing, pyyaml\r\n",
      "Required-by: keras-efficientnets\r\n"
     ]
    }
   ],
   "source": [
    "!pip show keras"
   ]
  },
  {
   "cell_type": "code",
   "execution_count": 8,
   "metadata": {},
   "outputs": [
    {
     "name": "stdout",
     "output_type": "stream",
     "text": [
      "Name: tensorflow\r\n",
      "Version: 2.2.0\r\n",
      "Summary: TensorFlow is an open source machine learning framework for everyone.\r\n",
      "Home-page: https://www.tensorflow.org/\r\n",
      "Author: Google Inc.\r\n",
      "Author-email: packages@tensorflow.org\r\n",
      "License: Apache 2.0\r\n",
      "Location: /home/yupaporn/miniconda3/envs/eff/lib/python3.6/site-packages\r\n",
      "Requires: wrapt, protobuf, tensorflow-estimator, astunparse, opt-einsum, h5py, termcolor, grpcio, wheel, absl-py, six, tensorboard, scipy, keras-preprocessing, google-pasta, numpy, gast\r\n",
      "Required-by: \r\n"
     ]
    }
   ],
   "source": [
    "!pip show tensorflow"
   ]
  },
  {
   "cell_type": "code",
   "execution_count": 9,
   "metadata": {},
   "outputs": [
    {
     "name": "stdout",
     "output_type": "stream",
     "text": [
      "Python 3.6.9 :: Anaconda, Inc.\r\n"
     ]
    }
   ],
   "source": [
    "!python --version"
   ]
  },
  {
   "cell_type": "code",
   "execution_count": null,
   "metadata": {},
   "outputs": [],
   "source": []
  }
 ],
 "metadata": {
  "kernelspec": {
   "display_name": "eff",
   "language": "python",
   "name": "eff"
  },
  "language_info": {
   "codemirror_mode": {
    "name": "ipython",
    "version": 3
   },
   "file_extension": ".py",
   "mimetype": "text/x-python",
   "name": "python",
   "nbconvert_exporter": "python",
   "pygments_lexer": "ipython3",
   "version": "3.6.9"
  }
 },
 "nbformat": 4,
 "nbformat_minor": 4
}
