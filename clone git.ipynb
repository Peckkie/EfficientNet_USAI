{
 "cells": [
  {
   "cell_type": "code",
   "execution_count": 3,
   "metadata": {},
   "outputs": [
    {
     "name": "stdout",
     "output_type": "stream",
     "text": [
      "content\r\n"
     ]
    }
   ],
   "source": [
    "import os\n",
    "# os.path.abspath('/media/tohn/SSD/Efficient_USAI')\n",
    "os.chdir('/media/tohn/SSD/Nor_ABnor_Network_25_b0')\n",
    "!ls"
   ]
  },
  {
   "cell_type": "code",
   "execution_count": 4,
   "metadata": {},
   "outputs": [
    {
     "name": "stdout",
     "output_type": "stream",
     "text": [
      "/media/tohn/SSD/Nor_ABnor_Network_25_b0/content\n",
      "Cloning into 'efficientnet_keras_transfer_learning'...\n",
      "remote: Enumerating objects: 176, done.\u001b[K\n",
      "remote: Total 176 (delta 0), reused 0 (delta 0), pack-reused 176\u001b[K\n",
      "Receiving objects: 100% (176/176), 5.44 MiB | 312.00 KiB/s, done.\n",
      "Resolving deltas: 100% (102/102), done.\n",
      "/media/tohn/SSD/Nor_ABnor_Network_25_b0/content/efficientnet_keras_transfer_learning\n"
     ]
    }
   ],
   "source": [
    "import os\n",
    "%cd content\n",
    "if not os.path.isdir(\"efficientnet_keras_transfer_learning\"):\n",
    "  !git clone https://github.com/Peckkie/efficientnet_keras_transfer_learning.git\n",
    "%cd efficientnet_keras_transfer_learning/"
   ]
  },
  {
   "cell_type": "code",
   "execution_count": null,
   "metadata": {},
   "outputs": [],
   "source": []
  }
 ],
 "metadata": {
  "kernelspec": {
   "display_name": "Python 3",
   "language": "python",
   "name": "python3"
  },
  "language_info": {
   "codemirror_mode": {
    "name": "ipython",
    "version": 3
   },
   "file_extension": ".py",
   "mimetype": "text/x-python",
   "name": "python",
   "nbconvert_exporter": "python",
   "pygments_lexer": "ipython3",
   "version": "3.6.9"
  }
 },
 "nbformat": 4,
 "nbformat_minor": 4
}
