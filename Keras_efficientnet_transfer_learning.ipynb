{
 "cells": [
  {
   "cell_type": "markdown",
   "metadata": {
    "colab_type": "text",
    "id": "G7Evp4GOUt7Z"
   },
   "source": [
    "# [How to do Transfer learning with Efficientnet](https://www.dlology.com/blog/transfer-learning-with-efficientnet/) | DLology"
   ]
  },
  {
   "cell_type": "markdown",
   "metadata": {
    "colab_type": "text",
    "id": "qYbI0TGpL6Jd"
   },
   "source": [
    "## Imports"
   ]
  },
  {
   "cell_type": "code",
   "execution_count": 2,
   "metadata": {
    "colab": {
     "base_uri": "https://localhost:8080/",
     "height": 325
    },
    "colab_type": "code",
    "id": "e4wFQJkBiFWE",
    "outputId": "fae7b330-fdec-46c6-b680-fc2aef6c2f66"
   },
   "outputs": [],
   "source": [
    "# # Downgrade pillow to avoid `UserWarning: Possibly corrupt EXIF data.`\n",
    "# !pip install pillow==4.0.0"
   ]
  },
  {
   "cell_type": "code",
   "execution_count": 3,
   "metadata": {},
   "outputs": [],
   "source": [
    "# import os\n",
    "# os.path.abspath('/home/yupaporn/miniconda3/envs/effnet/lib/python3.5/')\n",
    "# !ls\n",
    "# import numpy as np"
   ]
  },
  {
   "cell_type": "code",
   "execution_count": 1,
   "metadata": {
    "colab": {},
    "colab_type": "code",
    "id": "SmzQmZdKDfSF"
   },
   "outputs": [],
   "source": [
    "from tensorflow.keras import models\n",
    "from tensorflow.keras import layers\n",
    "from tensorflow.keras import optimizers\n",
    "import os\n",
    "import glob\n",
    "import shutil\n",
    "import sys\n",
    "import numpy as np\n",
    "from skimage.io import imread\n",
    "import matplotlib.pyplot as plt\n",
    "from IPython.display import Image\n",
    "%matplotlib inline"
   ]
  },
  {
   "cell_type": "markdown",
   "metadata": {
    "colab_type": "text",
    "id": "VpdwDI3vL8sQ"
   },
   "source": [
    "## Hyper parameters\n",
    "### การตั้งค่าพารามิเตอร์ต่างๆ"
   ]
  },
  {
   "cell_type": "code",
   "execution_count": 2,
   "metadata": {
    "colab": {},
    "colab_type": "code",
    "id": "mp4TOw5rJs0M"
   },
   "outputs": [],
   "source": [
    "#only have 2 label\n",
    "batch_size = 48 #จำนวน data ที่ส่งไป Train ในแต่ละครั้ง จนครบจำนวนเต็ม x_train\n",
    "\n",
    "width = 150 \n",
    "height = 150 \n",
    "input_shape = (height, width, 3) #ขนาด image enter\n",
    "\n",
    "epochs = 20  #จำนวนรอบในการ Train\n",
    "NUM_TRAIN = 2000 # จำนวนภาพ Train\n",
    "NUM_TEST = 1000 #จำนวนภาพ Test\n",
    "dropout_rate = 0.2 #คือการปิดบาง Node หรือเรียกว่าทำการ Drop Out ไป ซึ่งขึ้นกับการตั้งค่าว่าจะให้ลืมไปกี่เปอร์เซนต์ดี ช่วยในการแก้ปัญหา Overfitting\n"
   ]
  },
  {
   "cell_type": "markdown",
   "metadata": {
    "colab_type": "text",
    "id": "R9S4UyubKPUc"
   },
   "source": [
    "## Clone **efficientnet** repo"
   ]
  },
  {
   "cell_type": "code",
   "execution_count": 3,
   "metadata": {},
   "outputs": [
    {
     "name": "stdout",
     "output_type": "stream",
     "text": [
      "content\t\t\t\t\t    README.md\t     Untitled.ipynb\r\n",
      "Keras_efficientnet_transfer_learning.ipynb  Untitled1.ipynb\r\n",
      "myenv\t\t\t\t\t    Untitled2.ipynb\r\n"
     ]
    }
   ],
   "source": [
    "import os\n",
    "os.path.abspath('/home/yupaporn/EfficientNet_USAI/')\n",
    "!ls"
   ]
  },
  {
   "cell_type": "code",
   "execution_count": 4,
   "metadata": {
    "colab": {
     "base_uri": "https://localhost:8080/",
     "height": 181
    },
    "colab_type": "code",
    "id": "mnyJvYF_yXLo",
    "outputId": "1bb2c8ea-2ef2-4150-8093-2b07d6b68cff"
   },
   "outputs": [
    {
     "name": "stdout",
     "output_type": "stream",
     "text": [
      "/home/yupaporn/EfficientNet_USAI/content\n",
      "/home/yupaporn/EfficientNet_USAI/content/efficientnet_keras_transfer_learning\n"
     ]
    }
   ],
   "source": [
    "#สร้างโฟล์เดอร์ content ก่อน \n",
    "\n",
    "import os\n",
    "%cd content\n",
    "if not os.path.isdir(\"efficientnet_keras_transfer_learning\"):\n",
    "  !git clone https://github.com/Tony607/efficientnet_keras_transfer_learning\n",
    "%cd efficientnet_keras_transfer_learning/\n",
    "\n",
    "# %cd content/efficientnet_keras_transfer_learning/"
   ]
  },
  {
   "cell_type": "markdown",
   "metadata": {
    "colab_type": "text",
    "id": "oO7kxxRaMC2q"
   },
   "source": [
    "## Import efficientnet and load the conv base model"
   ]
  },
  {
   "cell_type": "code",
   "execution_count": 5,
   "metadata": {
    "colab": {
     "base_uri": "https://localhost:8080/",
     "height": 35
    },
    "colab_type": "code",
    "id": "vq00KoYUzOSc",
    "outputId": "ff3e2db9-f3ec-47d0-afa7-edac55753e83",
    "scrolled": true
   },
   "outputs": [
    {
     "name": "stderr",
     "output_type": "stream",
     "text": [
      "Using TensorFlow backend.\n"
     ]
    }
   ],
   "source": [
    "# Options: EfficientNetB0, EfficientNetB1, EfficientNetB2, EfficientNetB3\n",
    "# Higher the number, the more complex the model is.\n",
    "\n",
    "from efficientnet import EfficientNetB0 as Net\n",
    "from efficientnet import center_crop_and_resize, preprocess_input"
   ]
  },
  {
   "cell_type": "code",
   "execution_count": 6,
   "metadata": {
    "colab": {
     "base_uri": "https://localhost:8080/",
     "height": 237
    },
    "colab_type": "code",
    "id": "PeETTKsszRj0",
    "outputId": "47cfda99-d165-4a81-e78e-14f356c1e26b"
   },
   "outputs": [],
   "source": [
    "# loading pretrained conv base model\n",
    "\n",
    "conv_base = Net(weights='imagenet', include_top=False, input_shape=input_shape)\n",
    "#ซึ่งหมายความว่าเลเยอร์สุดท้ายสำหรับการจำแนกไม่เป็นประโยชน์ เพราะทีทำมีเเค่ 2 label include_top=False "
   ]
  },
  {
   "cell_type": "markdown",
   "metadata": {
    "colab_type": "text",
    "id": "WONAK_7CKY6z"
   },
   "source": [
    "## Download and extract `dog_vs_cat` dataset"
   ]
  },
  {
   "cell_type": "code",
   "execution_count": 9,
   "metadata": {
    "colab": {
     "base_uri": "https://localhost:8080/",
     "height": 217
    },
    "colab_type": "code",
    "id": "8Tp1YzND3dUs",
    "outputId": "9783a347-71d8-44bd-cd7d-a201fa53b5f1"
   },
   "outputs": [
    {
     "name": "stdout",
     "output_type": "stream",
     "text": [
      "--2020-05-13 15:00:12--  https://download.microsoft.com/download/3/E/1/3E1C3F21-ECDB-4869-8368-6DEBA77B919F/kagglecatsanddogs_3367a.zip\n",
      "Resolving download.microsoft.com (download.microsoft.com)... 23.208.171.22, 2600:140b:4:7b6::e59, 2600:140b:4:78c::e59\n",
      "Connecting to download.microsoft.com (download.microsoft.com)|23.208.171.22|:443... connected.\n",
      "HTTP request sent, awaiting response... 200 OK\n",
      "Length: 824894548 (787M) [application/octet-stream]\n",
      "Saving to: ‘kagglecatsanddogs_3367a.zip’\n",
      "\n",
      "kagglecatsanddogs_3 100%[===================>] 786.68M  90.7MB/s    in 12s     \n",
      "\n",
      "2020-05-13 15:00:24 (67.4 MB/s) - ‘kagglecatsanddogs_3367a.zip’ saved [824894548/824894548]\n",
      "\n"
     ]
    }
   ],
   "source": [
    "if not os.path.isfile(\"kagglecatsanddogs_3367a.zip\"):\n",
    "  !wget https://download.microsoft.com/download/3/E/1/3E1C3F21-ECDB-4869-8368-6DEBA77B919F/kagglecatsanddogs_3367a.zip\n",
    "  !unzip -qq kagglecatsanddogs_3367a.zip -d dog_vs_cat\n",
    "else:\n",
    "  print(\"dataset already exist.\")"
   ]
  },
  {
   "cell_type": "code",
   "execution_count": 7,
   "metadata": {
    "colab": {
     "base_uri": "https://localhost:8080/",
     "height": 217
    },
    "colab_type": "code",
    "id": "4OdmlrfP40sc",
    "outputId": "f691574d-bd32-49ec-eea9-65911bd87443"
   },
   "outputs": [
    {
     "name": "stdout",
     "output_type": "stream",
     "text": [
      "Cat  Dog\n",
      "total 408428\n",
      "-rw-rw-r-- 1 yupaporn yupaporn   34297 Feb 10  2017 9955.jpg\n",
      "-rw-rw-r-- 1 yupaporn yupaporn   26013 Feb 10  2017 9956.jpg\n",
      "-rw-rw-r-- 1 yupaporn yupaporn   26293 Feb 10  2017 9957.jpg\n",
      "-rw-rw-r-- 1 yupaporn yupaporn   36293 Feb 10  2017 9958.jpg\n",
      "-rw-rw-r-- 1 yupaporn yupaporn   36690 Feb 10  2017 9959.jpg\n",
      "-rw-rw-r-- 1 yupaporn yupaporn   15262 Feb 10  2017 9960.jpg\n",
      "-rw-rw-r-- 1 yupaporn yupaporn   49493 Feb 10  2017 9961.jpg\n",
      "-rw-rw-r-- 1 yupaporn yupaporn   14785 Feb 10  2017 9962.jpg\n",
      "-rw-rw-r-- 1 yupaporn yupaporn   39717 Feb 10  2017 9963.jpg\n",
      "ls: write error: Broken pipe\n"
     ]
    }
   ],
   "source": [
    "!ls dog_vs_cat/PetImages/\n",
    "!ls dog_vs_cat/PetImages/Cat -l -t | head -10"
   ]
  },
  {
   "cell_type": "code",
   "execution_count": 8,
   "metadata": {
    "colab": {
     "base_uri": "https://localhost:8080/",
     "height": 54
    },
    "colab_type": "code",
    "id": "SOXcZDirjoL4",
    "outputId": "bf33b54a-3aae-4429-aa4f-6e17104158ac"
   },
   "outputs": [
    {
     "name": "stdout",
     "output_type": "stream",
     "text": [
      "total cat images: 12500\n",
      "\r",
      "total dog images: 12498\n"
     ]
    }
   ],
   "source": [
    "# The path to the directory where the original\n",
    "# dataset was uncompressed\n",
    "original_dataset_dir = './dog_vs_cat/PetImages'\n",
    "\n",
    "cat_images = glob.glob(os.path.join(original_dataset_dir, \"Cat\", '*.jpg'))\n",
    "dog_images = glob.glob(os.path.join(original_dataset_dir, \"Dog\", '*.jpg'))\n",
    "print(\"total cat images: {}\\n\\rtotal dog images: {}\".format(len(cat_images), len(dog_images)))"
   ]
  },
  {
   "cell_type": "code",
   "execution_count": 9,
   "metadata": {
    "colab": {},
    "colab_type": "code",
    "id": "IBqtrHVu5iUE"
   },
   "outputs": [],
   "source": [
    "# การเเบ่ดข้อมูล  train/validation/test sets\n",
    "\n",
    "# The directory where we will\n",
    "# store our smaller dataset\n",
    "base_dir = './data/dog_vs_cat_small'\n",
    "os.makedirs(base_dir, exist_ok=True)\n",
    "\n",
    "# Directories for our training,\n",
    "# validation and test splits\n",
    "train_dir = os.path.join(base_dir, 'train')\n",
    "os.makedirs(train_dir, exist_ok=True)\n",
    "validation_dir = os.path.join(base_dir, 'validation')\n",
    "os.makedirs(validation_dir, exist_ok=True)\n",
    "test_dir = os.path.join(base_dir, 'test')\n",
    "os.makedirs(test_dir, exist_ok=True)\n",
    "\n",
    "# Directory with our training cat pictures\n",
    "train_cats_dir = os.path.join(train_dir, 'cats')\n",
    "os.makedirs(train_cats_dir, exist_ok=True)\n",
    "\n",
    "# Directory with our training dog pictures\n",
    "train_dogs_dir = os.path.join(train_dir, 'dogs')\n",
    "os.makedirs(train_dogs_dir, exist_ok=True)\n",
    "\n",
    "# Directory with our validation cat pictures\n",
    "validation_cats_dir = os.path.join(validation_dir, 'cats')\n",
    "os.makedirs(validation_cats_dir, exist_ok=True)\n",
    "\n",
    "# Directory with our validation dog pictures\n",
    "validation_dogs_dir = os.path.join(validation_dir, 'dogs')\n",
    "os.makedirs(validation_dogs_dir, exist_ok=True)\n",
    "\n",
    "# Directory with our validation cat pictures\n",
    "test_cats_dir = os.path.join(test_dir, 'cats')\n",
    "os.makedirs(test_cats_dir, exist_ok=True)\n",
    "\n",
    "# Directory with our validation dog pictures\n",
    "test_dogs_dir = os.path.join(test_dir, 'dogs')\n",
    "os.makedirs(test_dogs_dir, exist_ok=True)\n",
    "\n",
    "# Copy first NUM_TRAIN//2 cat images to train_cats_dir\n",
    "fnames = cat_images[:NUM_TRAIN//2]\n",
    "for fname in fnames:\n",
    "    dst = os.path.join(train_cats_dir, os.path.basename(fname))\n",
    "    shutil.copyfile(fname, dst)\n",
    "\n",
    "offset = NUM_TRAIN//2\n",
    "# Copy next NUM_TEST //2 cat images to validation_cats_dir\n",
    "fnames = cat_images[offset:offset + NUM_TEST // 2]\n",
    "for fname in fnames:\n",
    "    dst = os.path.join(validation_cats_dir, os.path.basename(fname))\n",
    "    shutil.copyfile(fname, dst)\n",
    "offset = offset + NUM_TEST // 2\n",
    "# Copy next NUM_TRAIN//2 cat images to test_cats_dir\n",
    "fnames = cat_images[offset:offset + NUM_TEST // 2]\n",
    "for fname in fnames:\n",
    "    dst = os.path.join(test_cats_dir, os.path.basename(fname))\n",
    "    shutil.copyfile(fname, dst)\n",
    "\n",
    "\n",
    "# Copy first NUM_TRAIN//2 dog images to train_dogs_dir\n",
    "fnames = dog_images[:NUM_TRAIN//2]\n",
    "for fname in fnames:\n",
    "    dst = os.path.join(train_dogs_dir, os.path.basename(fname))\n",
    "    shutil.copyfile(fname, dst)\n",
    "\n",
    "offset = NUM_TRAIN//2\n",
    "# Copy next NUM_TEST // 2 dog images to validation_dogs_dir\n",
    "fnames = dog_images[offset:offset + NUM_TEST // 2]\n",
    "for fname in fnames:\n",
    "    dst = os.path.join(validation_dogs_dir, os.path.basename(fname))\n",
    "    shutil.copyfile(fname, dst)\n",
    "offset = offset + NUM_TEST // 2\n",
    "\n",
    "# Copy next NUM_TEST // 2 dog images to test_dogs_dir\n",
    "fnames = dog_images[offset:offset + NUM_TEST // 2]\n",
    "for fname in fnames:\n",
    "    dst = os.path.join(test_dogs_dir, os.path.basename(fname))\n",
    "    shutil.copyfile(fname, dst)"
   ]
  },
  {
   "cell_type": "code",
   "execution_count": 10,
   "metadata": {
    "colab": {
     "base_uri": "https://localhost:8080/",
     "height": 126
    },
    "colab_type": "code",
    "id": "WyD74zWe56WK",
    "outputId": "2ad6848a-8237-4f3b-c8d0-12e01526dd45"
   },
   "outputs": [
    {
     "name": "stdout",
     "output_type": "stream",
     "text": [
      "total training cat images: 1000\n",
      "total training dog images: 1000\n",
      "total validation cat images: 500\n",
      "total validation dog images: 500\n",
      "total test cat images: 500\n",
      "total test dog images: 500\n"
     ]
    }
   ],
   "source": [
    "print('total training cat images:', len(os.listdir(train_cats_dir)))\n",
    "print('total training dog images:', len(os.listdir(train_dogs_dir)))\n",
    "print('total validation cat images:', len(os.listdir(validation_cats_dir)))\n",
    "print('total validation dog images:', len(os.listdir(validation_dogs_dir)))\n",
    "print('total test cat images:', len(os.listdir(test_cats_dir)))\n",
    "print('total test dog images:', len(os.listdir(test_dogs_dir)))"
   ]
  },
  {
   "cell_type": "code",
   "execution_count": 11,
   "metadata": {
    "colab": {
     "base_uri": "https://localhost:8080/",
     "height": 54
    },
    "colab_type": "code",
    "id": "D9MM2WA49zyj",
    "outputId": "0621c81c-d68b-40fd-e7e6-1a87a9fe23ca"
   },
   "outputs": [
    {
     "name": "stdout",
     "output_type": "stream",
     "text": [
      "Found 2000 images belonging to 2 classes.\n",
      "Found 1000 images belonging to 2 classes.\n"
     ]
    }
   ],
   "source": [
    "# data augmentation เพื่อลดโอกาสการเกิด overfitting\n",
    "\n",
    "from tensorflow.keras.preprocessing.image import ImageDataGenerator\n",
    "\n",
    "train_datagen = ImageDataGenerator(\n",
    "      rescale=1./255, #ย่อ image\n",
    "      rotation_range=40, # หมุนภาพในช่วงที่สุ่ม\n",
    "      width_shift_range=0.2, #เปลี่ยนความกว้าง\n",
    "      height_shift_range=0.2, #ปลี่ยนความสูง\n",
    "      shear_range=0.2, #ตัด,เฉือน\n",
    "      zoom_range=0.2, #ซุม image\n",
    "      horizontal_flip=True, #พลิกภาพแบบสุ่มตามแนวนอน\n",
    "      fill_mode='nearest') \n",
    "\n",
    "# Note that the validation data should not be augmented!\n",
    "test_datagen = ImageDataGenerator(rescale=1./255)\n",
    "\n",
    "train_generator = train_datagen.flow_from_directory(\n",
    "        # This is the target directory\n",
    "        train_dir,\n",
    "        # All images will be resized to target height and width.\n",
    "        target_size=(height, width),\n",
    "        batch_size=batch_size,\n",
    "        # Since we use categorical_crossentropy loss, we need categorical labels\n",
    "        class_mode='categorical')\n",
    "\n",
    "validation_generator = test_datagen.flow_from_directory(\n",
    "        validation_dir,\n",
    "        target_size=(height, width),\n",
    "        batch_size=batch_size,\n",
    "        class_mode='categorical')"
   ]
  },
  {
   "cell_type": "code",
   "execution_count": 12,
   "metadata": {
    "colab": {
     "base_uri": "https://localhost:8080/",
     "height": 92
    },
    "colab_type": "code",
    "id": "lgjoz26l-HfD",
    "outputId": "45b9c73c-e278-4eb8-ad7c-c97b1509a2ab"
   },
   "outputs": [],
   "source": [
    "model = models.Sequential()\n",
    "model.add(conv_base)\n",
    "model.add(layers.GlobalMaxPooling2D(name=\"gap\"))\n",
    "# model.add(layers.Flatten(name=\"flatten\"))\n",
    "if dropout_rate > 0:\n",
    "    model.add(layers.Dropout(dropout_rate, name=\"dropout_out\"))\n",
    "# model.add(layers.Dense(256, activation='relu', name=\"fc1\"))\n",
    "model.add(layers.Dense(2, activation='softmax', name=\"fc_out\"))"
   ]
  },
  {
   "cell_type": "code",
   "execution_count": 13,
   "metadata": {
    "colab": {
     "base_uri": "https://localhost:8080/",
     "height": 290
    },
    "colab_type": "code",
    "id": "4iAX7AegDHUS",
    "outputId": "3ed31603-826c-487d-b6cd-31e495240c57"
   },
   "outputs": [
    {
     "name": "stdout",
     "output_type": "stream",
     "text": [
      "Model: \"sequential\"\n",
      "_________________________________________________________________\n",
      "Layer (type)                 Output Shape              Param #   \n",
      "=================================================================\n",
      "efficientnet-b0 (Model)      (None, 5, 5, 1280)        4049564   \n",
      "_________________________________________________________________\n",
      "gap (GlobalMaxPooling2D)     (None, 1280)              0         \n",
      "_________________________________________________________________\n",
      "dropout_out (Dropout)        (None, 1280)              0         \n",
      "_________________________________________________________________\n",
      "fc_out (Dense)               (None, 2)                 2562      \n",
      "=================================================================\n",
      "Total params: 4,052,126\n",
      "Trainable params: 4,010,110\n",
      "Non-trainable params: 42,016\n",
      "_________________________________________________________________\n"
     ]
    }
   ],
   "source": [
    "model.summary()"
   ]
  },
  {
   "cell_type": "code",
   "execution_count": 14,
   "metadata": {
    "colab": {
     "base_uri": "https://localhost:8080/",
     "height": 54
    },
    "colab_type": "code",
    "id": "_N-F9Z-uDJAi",
    "outputId": "595c49cc-434b-4a26-cef2-b5770c1e50b6"
   },
   "outputs": [
    {
     "name": "stdout",
     "output_type": "stream",
     "text": [
      "This is the number of trainable layers before freezing the conv base: 213\n",
      "This is the number of trainable layers after freezing the conv base: 2\n"
     ]
    }
   ],
   "source": [
    "print('This is the number of trainable layers '\n",
    "      'before freezing the conv base:', len(model.trainable_weights))\n",
    "\n",
    "conv_base.trainable = False  # freeze เพื่อรักษา convolutional base's weight\n",
    "\n",
    "print('This is the number of trainable layers '\n",
    "      'after freezing the conv base:', len(model.trainable_weights))"
   ]
  },
  {
   "cell_type": "code",
   "execution_count": 15,
   "metadata": {
    "colab": {
     "base_uri": "https://localhost:8080/",
     "height": 1108
    },
    "colab_type": "code",
    "id": "SJHDUrjw2wRG",
    "outputId": "e70fbae8-c9e2-49af-d9d0-661d1dfef385"
   },
   "outputs": [
    {
     "name": "stdout",
     "output_type": "stream",
     "text": [
      "WARNING:tensorflow:From <ipython-input-15-205d43a62a05>:15: Model.fit_generator (from tensorflow.python.keras.engine.training) is deprecated and will be removed in a future version.\n",
      "Instructions for updating:\n",
      "Please use Model.fit, which supports generators.\n",
      "Epoch 1/20\n",
      "WARNING:tensorflow:multiprocessing can interact badly with TensorFlow, causing nondeterministic deadlocks. For high performance data pipelines tf.data is recommended.\n",
      "41/41 [==============================] - ETA: 0s - loss: 2.5461 - acc: 0.3822WARNING:tensorflow:multiprocessing can interact badly with TensorFlow, causing nondeterministic deadlocks. For high performance data pipelines tf.data is recommended.\n",
      "41/41 [==============================] - 4s 91ms/step - loss: 2.5461 - acc: 0.3822 - val_loss: 3.1084 - val_acc: 0.3125\n",
      "Epoch 2/20\n",
      "WARNING:tensorflow:multiprocessing can interact badly with TensorFlow, causing nondeterministic deadlocks. For high performance data pipelines tf.data is recommended.\n",
      "41/41 [==============================] - ETA: 0s - loss: 2.2827 - acc: 0.4385WARNING:tensorflow:multiprocessing can interact badly with TensorFlow, causing nondeterministic deadlocks. For high performance data pipelines tf.data is recommended.\n",
      "41/41 [==============================] - 3s 80ms/step - loss: 2.2827 - acc: 0.4385 - val_loss: 2.8271 - val_acc: 0.3490\n",
      "Epoch 3/20\n",
      "WARNING:tensorflow:multiprocessing can interact badly with TensorFlow, causing nondeterministic deadlocks. For high performance data pipelines tf.data is recommended.\n",
      "41/41 [==============================] - ETA: 0s - loss: 2.0773 - acc: 0.4631WARNING:tensorflow:multiprocessing can interact badly with TensorFlow, causing nondeterministic deadlocks. For high performance data pipelines tf.data is recommended.\n",
      "41/41 [==============================] - 3s 80ms/step - loss: 2.0773 - acc: 0.4631 - val_loss: 2.5684 - val_acc: 0.3760\n",
      "Epoch 4/20\n",
      "WARNING:tensorflow:multiprocessing can interact badly with TensorFlow, causing nondeterministic deadlocks. For high performance data pipelines tf.data is recommended.\n",
      "40/41 [============================>.] - ETA: 0s - loss: 1.9882 - acc: 0.4512WARNING:tensorflow:multiprocessing can interact badly with TensorFlow, causing nondeterministic deadlocks. For high performance data pipelines tf.data is recommended.\n",
      "41/41 [==============================] - 3s 78ms/step - loss: 1.9863 - acc: 0.4534 - val_loss: 2.3342 - val_acc: 0.4156\n",
      "Epoch 5/20\n",
      "WARNING:tensorflow:multiprocessing can interact badly with TensorFlow, causing nondeterministic deadlocks. For high performance data pipelines tf.data is recommended.\n",
      "41/41 [==============================] - ETA: 0s - loss: 1.8470 - acc: 0.4744WARNING:tensorflow:multiprocessing can interact badly with TensorFlow, causing nondeterministic deadlocks. For high performance data pipelines tf.data is recommended.\n",
      "41/41 [==============================] - 3s 80ms/step - loss: 1.8470 - acc: 0.4744 - val_loss: 2.0654 - val_acc: 0.4427\n",
      "Epoch 6/20\n",
      "WARNING:tensorflow:multiprocessing can interact badly with TensorFlow, causing nondeterministic deadlocks. For high performance data pipelines tf.data is recommended.\n",
      "41/41 [==============================] - ETA: 0s - loss: 1.7825 - acc: 0.4846WARNING:tensorflow:multiprocessing can interact badly with TensorFlow, causing nondeterministic deadlocks. For high performance data pipelines tf.data is recommended.\n",
      "41/41 [==============================] - 3s 79ms/step - loss: 1.7825 - acc: 0.4846 - val_loss: 1.8417 - val_acc: 0.4781\n",
      "Epoch 7/20\n",
      "WARNING:tensorflow:multiprocessing can interact badly with TensorFlow, causing nondeterministic deadlocks. For high performance data pipelines tf.data is recommended.\n",
      "41/41 [==============================] - ETA: 0s - loss: 1.5466 - acc: 0.5282WARNING:tensorflow:multiprocessing can interact badly with TensorFlow, causing nondeterministic deadlocks. For high performance data pipelines tf.data is recommended.\n",
      "41/41 [==============================] - 3s 80ms/step - loss: 1.5466 - acc: 0.5282 - val_loss: 1.6678 - val_acc: 0.5177\n",
      "Epoch 8/20\n",
      "WARNING:tensorflow:multiprocessing can interact badly with TensorFlow, causing nondeterministic deadlocks. For high performance data pipelines tf.data is recommended.\n",
      "41/41 [==============================] - ETA: 0s - loss: 1.4684 - acc: 0.5487WARNING:tensorflow:multiprocessing can interact badly with TensorFlow, causing nondeterministic deadlocks. For high performance data pipelines tf.data is recommended.\n",
      "41/41 [==============================] - 3s 81ms/step - loss: 1.4684 - acc: 0.5487 - val_loss: 1.4965 - val_acc: 0.5604\n",
      "Epoch 9/20\n",
      "WARNING:tensorflow:multiprocessing can interact badly with TensorFlow, causing nondeterministic deadlocks. For high performance data pipelines tf.data is recommended.\n",
      "41/41 [==============================] - ETA: 0s - loss: 1.4349 - acc: 0.5446WARNING:tensorflow:multiprocessing can interact badly with TensorFlow, causing nondeterministic deadlocks. For high performance data pipelines tf.data is recommended.\n",
      "41/41 [==============================] - 3s 81ms/step - loss: 1.4349 - acc: 0.5446 - val_loss: 1.3535 - val_acc: 0.5833\n",
      "Epoch 10/20\n",
      "WARNING:tensorflow:multiprocessing can interact badly with TensorFlow, causing nondeterministic deadlocks. For high performance data pipelines tf.data is recommended.\n",
      "41/41 [==============================] - ETA: 0s - loss: 1.3396 - acc: 0.5676WARNING:tensorflow:multiprocessing can interact badly with TensorFlow, causing nondeterministic deadlocks. For high performance data pipelines tf.data is recommended.\n",
      "41/41 [==============================] - 3s 80ms/step - loss: 1.3396 - acc: 0.5676 - val_loss: 1.2016 - val_acc: 0.6094\n",
      "Epoch 11/20\n",
      "WARNING:tensorflow:multiprocessing can interact badly with TensorFlow, causing nondeterministic deadlocks. For high performance data pipelines tf.data is recommended.\n",
      "41/41 [==============================] - ETA: 0s - loss: 1.2835 - acc: 0.5840WARNING:tensorflow:multiprocessing can interact badly with TensorFlow, causing nondeterministic deadlocks. For high performance data pipelines tf.data is recommended.\n",
      "41/41 [==============================] - 3s 80ms/step - loss: 1.2835 - acc: 0.5840 - val_loss: 1.1076 - val_acc: 0.6323\n",
      "Epoch 12/20\n",
      "WARNING:tensorflow:multiprocessing can interact badly with TensorFlow, causing nondeterministic deadlocks. For high performance data pipelines tf.data is recommended.\n",
      "41/41 [==============================] - ETA: 0s - loss: 1.2263 - acc: 0.6040WARNING:tensorflow:multiprocessing can interact badly with TensorFlow, causing nondeterministic deadlocks. For high performance data pipelines tf.data is recommended.\n",
      "41/41 [==============================] - 3s 80ms/step - loss: 1.2263 - acc: 0.6040 - val_loss: 1.0241 - val_acc: 0.6521\n",
      "Epoch 13/20\n",
      "WARNING:tensorflow:multiprocessing can interact badly with TensorFlow, causing nondeterministic deadlocks. For high performance data pipelines tf.data is recommended.\n",
      "41/41 [==============================] - ETA: 0s - loss: 1.1764 - acc: 0.6112WARNING:tensorflow:multiprocessing can interact badly with TensorFlow, causing nondeterministic deadlocks. For high performance data pipelines tf.data is recommended.\n",
      "41/41 [==============================] - 3s 80ms/step - loss: 1.1764 - acc: 0.6112 - val_loss: 0.9529 - val_acc: 0.6750\n",
      "Epoch 14/20\n",
      "WARNING:tensorflow:multiprocessing can interact badly with TensorFlow, causing nondeterministic deadlocks. For high performance data pipelines tf.data is recommended.\n",
      "40/41 [============================>.] - ETA: 0s - loss: 1.1464 - acc: 0.6161WARNING:tensorflow:multiprocessing can interact badly with TensorFlow, causing nondeterministic deadlocks. For high performance data pipelines tf.data is recommended.\n",
      "41/41 [==============================] - 3s 79ms/step - loss: 1.1459 - acc: 0.6153 - val_loss: 0.8566 - val_acc: 0.6969\n",
      "Epoch 15/20\n",
      "WARNING:tensorflow:multiprocessing can interact badly with TensorFlow, causing nondeterministic deadlocks. For high performance data pipelines tf.data is recommended.\n",
      "41/41 [==============================] - ETA: 0s - loss: 1.0677 - acc: 0.6255WARNING:tensorflow:multiprocessing can interact badly with TensorFlow, causing nondeterministic deadlocks. For high performance data pipelines tf.data is recommended.\n"
     ]
    },
    {
     "name": "stdout",
     "output_type": "stream",
     "text": [
      "41/41 [==============================] - 3s 79ms/step - loss: 1.0677 - acc: 0.6255 - val_loss: 0.8057 - val_acc: 0.7146\n",
      "Epoch 16/20\n",
      "WARNING:tensorflow:multiprocessing can interact badly with TensorFlow, causing nondeterministic deadlocks. For high performance data pipelines tf.data is recommended.\n",
      "40/41 [============================>.] - ETA: 0s - loss: 1.1031 - acc: 0.6334WARNING:tensorflow:multiprocessing can interact badly with TensorFlow, causing nondeterministic deadlocks. For high performance data pipelines tf.data is recommended.\n",
      "41/41 [==============================] - 3s 79ms/step - loss: 1.0949 - acc: 0.6342 - val_loss: 0.7649 - val_acc: 0.7302\n",
      "Epoch 17/20\n",
      "WARNING:tensorflow:multiprocessing can interact badly with TensorFlow, causing nondeterministic deadlocks. For high performance data pipelines tf.data is recommended.\n",
      "41/41 [==============================] - ETA: 0s - loss: 1.0699 - acc: 0.6481WARNING:tensorflow:multiprocessing can interact badly with TensorFlow, causing nondeterministic deadlocks. For high performance data pipelines tf.data is recommended.\n",
      "41/41 [==============================] - 3s 79ms/step - loss: 1.0699 - acc: 0.6481 - val_loss: 0.7028 - val_acc: 0.7490\n",
      "Epoch 18/20\n",
      "WARNING:tensorflow:multiprocessing can interact badly with TensorFlow, causing nondeterministic deadlocks. For high performance data pipelines tf.data is recommended.\n",
      "41/41 [==============================] - ETA: 0s - loss: 0.9837 - acc: 0.6614WARNING:tensorflow:multiprocessing can interact badly with TensorFlow, causing nondeterministic deadlocks. For high performance data pipelines tf.data is recommended.\n",
      "41/41 [==============================] - 3s 79ms/step - loss: 0.9837 - acc: 0.6614 - val_loss: 0.6709 - val_acc: 0.7563\n",
      "Epoch 19/20\n",
      "WARNING:tensorflow:multiprocessing can interact badly with TensorFlow, causing nondeterministic deadlocks. For high performance data pipelines tf.data is recommended.\n",
      "40/41 [============================>.] - ETA: 0s - loss: 0.9825 - acc: 0.6576WARNING:tensorflow:multiprocessing can interact badly with TensorFlow, causing nondeterministic deadlocks. For high performance data pipelines tf.data is recommended.\n",
      "41/41 [==============================] - 3s 77ms/step - loss: 0.9854 - acc: 0.6573 - val_loss: 0.6517 - val_acc: 0.7698\n",
      "Epoch 20/20\n",
      "WARNING:tensorflow:multiprocessing can interact badly with TensorFlow, causing nondeterministic deadlocks. For high performance data pipelines tf.data is recommended.\n",
      "40/41 [============================>.] - ETA: 0s - loss: 0.9549 - acc: 0.6707WARNING:tensorflow:multiprocessing can interact badly with TensorFlow, causing nondeterministic deadlocks. For high performance data pipelines tf.data is recommended.\n",
      "41/41 [==============================] - 3s 76ms/step - loss: 0.9451 - acc: 0.6711 - val_loss: 0.5869 - val_acc: 0.7885\n"
     ]
    }
   ],
   "source": [
    "model.compile(loss='categorical_crossentropy',\n",
    "              optimizer=optimizers.RMSprop(lr=2e-5),\n",
    "              metrics=['acc'])\n",
    "\n",
    "#history คือตัวแปรที่จะทำการเก็บประวัติการ Train Model ของเรา\n",
    "\n",
    "history = model.fit_generator(\n",
    "      train_generator,\n",
    "      steps_per_epoch= NUM_TRAIN //batch_size,\n",
    "      epochs=epochs,\n",
    "      validation_data=validation_generator, #validation_data=(x_valid, y_valid): ใส่ data ที่เราแยกไว้เพื่อดูผล Model ว่าเกิด Overfitting เริ่มที่จุดใด\n",
    "      validation_steps= NUM_TEST //batch_size,\n",
    "      verbose=1,\n",
    "      use_multiprocessing=True,\n",
    "      workers=4)"
   ]
  },
  {
   "cell_type": "code",
   "execution_count": 16,
   "metadata": {
    "colab": {
     "base_uri": "https://localhost:8080/",
     "height": 545
    },
    "colab_type": "code",
    "id": "i90iKXuL3CHT",
    "outputId": "11dc236f-ea14-4915-d612-e443c2b5cb01"
   },
   "outputs": [
    {
     "data": {
      "image/png": "[encoded data removed]",
      "text/plain": [
       "<Figure size 432x288 with 1 Axes>"
      ]
     },
     "metadata": {
      "needs_background": "light"
     },
     "output_type": "display_data"
    },
    {
     "data": {
      "image/png": "[encoded data removed]",
      "text/plain": [
       "<Figure size 432x288 with 1 Axes>"
      ]
     },
     "metadata": {
      "needs_background": "light"
     },
     "output_type": "display_data"
    }
   ],
   "source": [
    "acc = history.history['acc']\n",
    "val_acc = history.history['val_acc']\n",
    "loss = history.history['loss']\n",
    "val_loss = history.history['val_loss']\n",
    "\n",
    "epochs_x = range(len(acc))\n",
    "\n",
    "plt.plot(epochs_x, acc, 'bo', label='Training acc')\n",
    "plt.plot(epochs_x, val_acc, 'b', label='Validation acc')\n",
    "plt.title('Training and validation accuracy')\n",
    "plt.legend()\n",
    "\n",
    "plt.figure()\n",
    "\n",
    "plt.plot(epochs_x, loss, 'bo', label='Training loss')\n",
    "plt.plot(epochs_x, val_loss, 'b', label='Validation loss')\n",
    "plt.title('Training and validation loss')\n",
    "plt.legend()\n",
    "\n",
    "plt.show()"
   ]
  },
  {
   "cell_type": "markdown",
   "metadata": {
    "colab_type": "text",
    "id": "4gRv7SwYqT9f"
   },
   "source": [
    "# Fine tuning last several layers.\n",
    "\n",
    "### The steps for fine-tuning a network are as follow:\n",
    "\n",
    "1) Add your custom network on top of an already trained base network.\n",
    "\n",
    "2) Freeze the base network.\n",
    "\n",
    "3) Train the part you added.\n",
    "\n",
    "4) Unfreeze some layers in the base network.\n",
    "\n",
    "5) Jointly train both these layers and the part you added.\n",
    "\n",
    "ทำไปแล้ว 3 ขั้นตอนเพื่อที่จะหาว่า layers ใดควรที่จะ unfreeze"
   ]
  },
  {
   "cell_type": "code",
   "execution_count": 17,
   "metadata": {
    "colab": {},
    "colab_type": "code",
    "id": "yKI8AJxQVB1Q"
   },
   "outputs": [],
   "source": [
    "# multiply_16\n",
    "# set 'multiply_16' and following layers trainable (เพื่อตั้งค่า multiply_16 )\n",
    "\n",
    "conv_base.trainable = True\n",
    "\n",
    "set_trainable = False\n",
    "for layer in conv_base.layers:\n",
    "    if layer.name == 'multiply_16':\n",
    "        set_trainable = True\n",
    "    if set_trainable:\n",
    "        layer.trainable = True\n",
    "    else:\n",
    "        layer.trainable = False"
   ]
  },
  {
   "cell_type": "code",
   "execution_count": 18,
   "metadata": {
    "colab": {
     "base_uri": "https://localhost:8080/",
     "height": 1108
    },
    "colab_type": "code",
    "id": "FMjt8tCcDOoC",
    "outputId": "a16c9223-01ff-4aa5-8005-58c4ab06196a"
   },
   "outputs": [
    {
     "name": "stdout",
     "output_type": "stream",
     "text": [
      "Epoch 1/20\n",
      "WARNING:tensorflow:multiprocessing can interact badly with TensorFlow, causing nondeterministic deadlocks. For high performance data pipelines tf.data is recommended.\n",
      "41/41 [==============================] - ETA: 0s - loss: 0.9321 - acc: 0.6829WARNING:tensorflow:multiprocessing can interact badly with TensorFlow, causing nondeterministic deadlocks. For high performance data pipelines tf.data is recommended.\n",
      "41/41 [==============================] - 4s 94ms/step - loss: 0.9321 - acc: 0.6829 - val_loss: 0.5810 - val_acc: 0.7927\n",
      "Epoch 2/20\n",
      "WARNING:tensorflow:multiprocessing can interact badly with TensorFlow, causing nondeterministic deadlocks. For high performance data pipelines tf.data is recommended.\n",
      "41/41 [==============================] - ETA: 0s - loss: 0.9059 - acc: 0.6875WARNING:tensorflow:multiprocessing can interact badly with TensorFlow, causing nondeterministic deadlocks. For high performance data pipelines tf.data is recommended.\n",
      "41/41 [==============================] - 3s 78ms/step - loss: 0.9059 - acc: 0.6875 - val_loss: 0.5588 - val_acc: 0.7979\n",
      "Epoch 3/20\n",
      "WARNING:tensorflow:multiprocessing can interact badly with TensorFlow, causing nondeterministic deadlocks. For high performance data pipelines tf.data is recommended.\n",
      "41/41 [==============================] - ETA: 0s - loss: 0.8418 - acc: 0.7141WARNING:tensorflow:multiprocessing can interact badly with TensorFlow, causing nondeterministic deadlocks. For high performance data pipelines tf.data is recommended.\n",
      "41/41 [==============================] - 3s 78ms/step - loss: 0.8418 - acc: 0.7141 - val_loss: 0.5382 - val_acc: 0.7979\n",
      "Epoch 4/20\n",
      "WARNING:tensorflow:multiprocessing can interact badly with TensorFlow, causing nondeterministic deadlocks. For high performance data pipelines tf.data is recommended.\n",
      "41/41 [==============================] - ETA: 0s - loss: 0.8683 - acc: 0.7034WARNING:tensorflow:multiprocessing can interact badly with TensorFlow, causing nondeterministic deadlocks. For high performance data pipelines tf.data is recommended.\n",
      "41/41 [==============================] - 3s 80ms/step - loss: 0.8683 - acc: 0.7034 - val_loss: 0.5188 - val_acc: 0.8062\n",
      "Epoch 5/20\n",
      "WARNING:tensorflow:multiprocessing can interact badly with TensorFlow, causing nondeterministic deadlocks. For high performance data pipelines tf.data is recommended.\n",
      "41/41 [==============================] - ETA: 0s - loss: 0.8024 - acc: 0.7049WARNING:tensorflow:multiprocessing can interact badly with TensorFlow, causing nondeterministic deadlocks. For high performance data pipelines tf.data is recommended.\n",
      "41/41 [==============================] - 3s 80ms/step - loss: 0.8024 - acc: 0.7049 - val_loss: 0.5084 - val_acc: 0.8073\n",
      "Epoch 6/20\n",
      "WARNING:tensorflow:multiprocessing can interact badly with TensorFlow, causing nondeterministic deadlocks. For high performance data pipelines tf.data is recommended.\n",
      "41/41 [==============================] - ETA: 0s - loss: 0.8006 - acc: 0.7295WARNING:tensorflow:multiprocessing can interact badly with TensorFlow, causing nondeterministic deadlocks. For high performance data pipelines tf.data is recommended.\n",
      "41/41 [==============================] - 3s 79ms/step - loss: 0.8006 - acc: 0.7295 - val_loss: 0.4747 - val_acc: 0.8167\n",
      "Epoch 7/20\n",
      "WARNING:tensorflow:multiprocessing can interact badly with TensorFlow, causing nondeterministic deadlocks. For high performance data pipelines tf.data is recommended.\n",
      "40/41 [============================>.] - ETA: 0s - loss: 0.8107 - acc: 0.7101WARNING:tensorflow:multiprocessing can interact badly with TensorFlow, causing nondeterministic deadlocks. For high performance data pipelines tf.data is recommended.\n",
      "41/41 [==============================] - 3s 80ms/step - loss: 0.8062 - acc: 0.7111 - val_loss: 0.4728 - val_acc: 0.8240\n",
      "Epoch 8/20\n",
      "WARNING:tensorflow:multiprocessing can interact badly with TensorFlow, causing nondeterministic deadlocks. For high performance data pipelines tf.data is recommended.\n",
      "40/41 [============================>.] - ETA: 0s - loss: 0.8691 - acc: 0.6991WARNING:tensorflow:multiprocessing can interact badly with TensorFlow, causing nondeterministic deadlocks. For high performance data pipelines tf.data is recommended.\n",
      "41/41 [==============================] - 3s 81ms/step - loss: 0.8702 - acc: 0.6983 - val_loss: 0.4430 - val_acc: 0.8344\n",
      "Epoch 9/20\n",
      "WARNING:tensorflow:multiprocessing can interact badly with TensorFlow, causing nondeterministic deadlocks. For high performance data pipelines tf.data is recommended.\n",
      "41/41 [==============================] - ETA: 0s - loss: 0.7576 - acc: 0.7264WARNING:tensorflow:multiprocessing can interact badly with TensorFlow, causing nondeterministic deadlocks. For high performance data pipelines tf.data is recommended.\n",
      "41/41 [==============================] - 3s 77ms/step - loss: 0.7576 - acc: 0.7264 - val_loss: 0.4503 - val_acc: 0.8333\n",
      "Epoch 10/20\n",
      "WARNING:tensorflow:multiprocessing can interact badly with TensorFlow, causing nondeterministic deadlocks. For high performance data pipelines tf.data is recommended.\n",
      "41/41 [==============================] - ETA: 0s - loss: 0.8497 - acc: 0.7085WARNING:tensorflow:multiprocessing can interact badly with TensorFlow, causing nondeterministic deadlocks. For high performance data pipelines tf.data is recommended.\n",
      "41/41 [==============================] - 3s 81ms/step - loss: 0.8497 - acc: 0.7085 - val_loss: 0.4407 - val_acc: 0.8365\n",
      "Epoch 11/20\n",
      "WARNING:tensorflow:multiprocessing can interact badly with TensorFlow, causing nondeterministic deadlocks. For high performance data pipelines tf.data is recommended.\n",
      "41/41 [==============================] - ETA: 0s - loss: 0.7509 - acc: 0.7259WARNING:tensorflow:multiprocessing can interact badly with TensorFlow, causing nondeterministic deadlocks. For high performance data pipelines tf.data is recommended.\n",
      "41/41 [==============================] - 3s 78ms/step - loss: 0.7509 - acc: 0.7259 - val_loss: 0.4345 - val_acc: 0.8375\n",
      "Epoch 12/20\n",
      "WARNING:tensorflow:multiprocessing can interact badly with TensorFlow, causing nondeterministic deadlocks. For high performance data pipelines tf.data is recommended.\n",
      "41/41 [==============================] - ETA: 0s - loss: 0.7465 - acc: 0.7305WARNING:tensorflow:multiprocessing can interact badly with TensorFlow, causing nondeterministic deadlocks. For high performance data pipelines tf.data is recommended.\n",
      "41/41 [==============================] - 3s 78ms/step - loss: 0.7465 - acc: 0.7305 - val_loss: 0.4203 - val_acc: 0.8396\n",
      "Epoch 13/20\n",
      "WARNING:tensorflow:multiprocessing can interact badly with TensorFlow, causing nondeterministic deadlocks. For high performance data pipelines tf.data is recommended.\n",
      "41/41 [==============================] - ETA: 0s - loss: 0.7479 - acc: 0.7275WARNING:tensorflow:multiprocessing can interact badly with TensorFlow, causing nondeterministic deadlocks. For high performance data pipelines tf.data is recommended.\n",
      "41/41 [==============================] - 3s 79ms/step - loss: 0.7479 - acc: 0.7275 - val_loss: 0.4106 - val_acc: 0.8438\n",
      "Epoch 14/20\n",
      "WARNING:tensorflow:multiprocessing can interact badly with TensorFlow, causing nondeterministic deadlocks. For high performance data pipelines tf.data is recommended.\n",
      "41/41 [==============================] - ETA: 0s - loss: 0.8013 - acc: 0.7134WARNING:tensorflow:multiprocessing can interact badly with TensorFlow, causing nondeterministic deadlocks. For high performance data pipelines tf.data is recommended.\n",
      "41/41 [==============================] - 3s 80ms/step - loss: 0.8013 - acc: 0.7134 - val_loss: 0.4120 - val_acc: 0.8396\n",
      "Epoch 15/20\n",
      "WARNING:tensorflow:multiprocessing can interact badly with TensorFlow, causing nondeterministic deadlocks. For high performance data pipelines tf.data is recommended.\n",
      "41/41 [==============================] - ETA: 0s - loss: 0.7605 - acc: 0.7239WARNING:tensorflow:multiprocessing can interact badly with TensorFlow, causing nondeterministic deadlocks. For high performance data pipelines tf.data is recommended.\n",
      "41/41 [==============================] - 3s 78ms/step - loss: 0.7605 - acc: 0.7239 - val_loss: 0.4071 - val_acc: 0.8396\n",
      "Epoch 16/20\n",
      "WARNING:tensorflow:multiprocessing can interact badly with TensorFlow, causing nondeterministic deadlocks. For high performance data pipelines tf.data is recommended.\n"
     ]
    },
    {
     "name": "stdout",
     "output_type": "stream",
     "text": [
      "41/41 [==============================] - ETA: 0s - loss: 0.7156 - acc: 0.7316WARNING:tensorflow:multiprocessing can interact badly with TensorFlow, causing nondeterministic deadlocks. For high performance data pipelines tf.data is recommended.\n",
      "41/41 [==============================] - 3s 83ms/step - loss: 0.7156 - acc: 0.7316 - val_loss: 0.4020 - val_acc: 0.8396\n",
      "Epoch 17/20\n",
      "WARNING:tensorflow:multiprocessing can interact badly with TensorFlow, causing nondeterministic deadlocks. For high performance data pipelines tf.data is recommended.\n",
      "41/41 [==============================] - ETA: 0s - loss: 0.6457 - acc: 0.7500WARNING:tensorflow:multiprocessing can interact badly with TensorFlow, causing nondeterministic deadlocks. For high performance data pipelines tf.data is recommended.\n",
      "41/41 [==============================] - 3s 79ms/step - loss: 0.6457 - acc: 0.7500 - val_loss: 0.3876 - val_acc: 0.8417\n",
      "Epoch 18/20\n",
      "WARNING:tensorflow:multiprocessing can interact badly with TensorFlow, causing nondeterministic deadlocks. For high performance data pipelines tf.data is recommended.\n",
      "41/41 [==============================] - ETA: 0s - loss: 0.7254 - acc: 0.7449WARNING:tensorflow:multiprocessing can interact badly with TensorFlow, causing nondeterministic deadlocks. For high performance data pipelines tf.data is recommended.\n",
      "41/41 [==============================] - 3s 79ms/step - loss: 0.7254 - acc: 0.7449 - val_loss: 0.3840 - val_acc: 0.8458\n",
      "Epoch 19/20\n",
      "WARNING:tensorflow:multiprocessing can interact badly with TensorFlow, causing nondeterministic deadlocks. For high performance data pipelines tf.data is recommended.\n",
      "40/41 [============================>.] - ETA: 0s - loss: 0.7491 - acc: 0.7248WARNING:tensorflow:multiprocessing can interact badly with TensorFlow, causing nondeterministic deadlocks. For high performance data pipelines tf.data is recommended.\n",
      "41/41 [==============================] - 3s 80ms/step - loss: 0.7537 - acc: 0.7223 - val_loss: 0.3784 - val_acc: 0.8500\n",
      "Epoch 20/20\n",
      "WARNING:tensorflow:multiprocessing can interact badly with TensorFlow, causing nondeterministic deadlocks. For high performance data pipelines tf.data is recommended.\n",
      "41/41 [==============================] - ETA: 0s - loss: 0.7000 - acc: 0.7541WARNING:tensorflow:multiprocessing can interact badly with TensorFlow, causing nondeterministic deadlocks. For high performance data pipelines tf.data is recommended.\n",
      "41/41 [==============================] - 3s 82ms/step - loss: 0.7000 - acc: 0.7541 - val_loss: 0.3540 - val_acc: 0.8562\n"
     ]
    }
   ],
   "source": [
    "model.compile(loss='categorical_crossentropy',\n",
    "              optimizer=optimizers.RMSprop(lr=2e-5),\n",
    "              metrics=['acc'])\n",
    "\n",
    "history = model.fit_generator(\n",
    "      train_generator,\n",
    "      steps_per_epoch= NUM_TRAIN //batch_size,\n",
    "      epochs=epochs,\n",
    "      validation_data=validation_generator,\n",
    "      validation_steps= NUM_TEST //batch_size,\n",
    "      verbose=1,\n",
    "      use_multiprocessing=True,\n",
    "      workers=4)"
   ]
  },
  {
   "cell_type": "code",
   "execution_count": 19,
   "metadata": {
    "colab": {},
    "colab_type": "code",
    "id": "HvVt5TwoEDz6"
   },
   "outputs": [],
   "source": [
    "os.makedirs(\"./models\", exist_ok=True)\n",
    "model.save('./models/cats_and_dogs_small.h5')"
   ]
  },
  {
   "cell_type": "code",
   "execution_count": 20,
   "metadata": {
    "colab": {
     "base_uri": "https://localhost:8080/",
     "height": 545
    },
    "colab_type": "code",
    "id": "65AKWOGiHB5y",
    "outputId": "cf4326af-90de-4224-fab2-f541c885b84b"
   },
   "outputs": [
    {
     "data": {
      "image/png": "[encoded data removed]",
      "text/plain": [
       "<Figure size 432x288 with 1 Axes>"
      ]
     },
     "metadata": {
      "needs_background": "light"
     },
     "output_type": "display_data"
    },
    {
     "data": {
      "image/png": "[encoded data removed]",
      "text/plain": [
       "<Figure size 432x288 with 1 Axes>"
      ]
     },
     "metadata": {
      "needs_background": "light"
     },
     "output_type": "display_data"
    }
   ],
   "source": [
    "acc = history.history['acc']\n",
    "val_acc = history.history['val_acc']\n",
    "loss = history.history['loss']\n",
    "val_loss = history.history['val_loss']\n",
    "\n",
    "epochs_x = range(len(acc))\n",
    "\n",
    "plt.plot(epochs_x, acc, 'bo', label='Training acc')\n",
    "plt.plot(epochs_x, val_acc, 'b', label='Validation acc')\n",
    "plt.title('Training and validation accuracy')\n",
    "plt.legend()\n",
    "\n",
    "plt.figure()\n",
    "\n",
    "plt.plot(epochs_x, loss, 'bo', label='Training loss')\n",
    "plt.plot(epochs_x, val_loss, 'b', label='Validation loss')\n",
    "plt.title('Training and validation loss')\n",
    "plt.legend()\n",
    "\n",
    "plt.show()"
   ]
  },
  {
   "cell_type": "markdown",
   "metadata": {
    "colab_type": "text",
    "id": "bigZr9kjL2sY"
   },
   "source": [
    "## Test predict"
   ]
  },
  {
   "cell_type": "code",
   "execution_count": 21,
   "metadata": {
    "colab": {},
    "colab_type": "code",
    "id": "JWTv_-7CHqZB"
   },
   "outputs": [],
   "source": [
    "cat_img = cat_images[-1]\n",
    "dog_img= dog_images[-1]"
   ]
  },
  {
   "cell_type": "code",
   "execution_count": 22,
   "metadata": {
    "colab": {
     "base_uri": "https://localhost:8080/",
     "height": 393
    },
    "colab_type": "code",
    "id": "_VFoNC0TLzaf",
    "outputId": "c89478d6-3629-48e1-e90c-ccc19073af33"
   },
   "outputs": [
    {
     "data": {
      "image/jpeg": "[encoded data removed]",
      "text/plain": [
       "<IPython.core.display.Image object>"
      ]
     },
     "execution_count": 22,
     "metadata": {},
     "output_type": "execute_result"
    }
   ],
   "source": [
    "Image(filename=cat_img)"
   ]
  },
  {
   "cell_type": "code",
   "execution_count": 23,
   "metadata": {
    "colab": {
     "base_uri": "https://localhost:8080/",
     "height": 393
    },
    "colab_type": "code",
    "id": "J4euiZSwLyZh",
    "outputId": "a86a4189-2907-494e-9ad7-ea2d3dbbe5e7"
   },
   "outputs": [
    {
     "data": {
      "image/jpeg": "[encoded data removed]",
      "text/plain": [
       "<IPython.core.display.Image object>"
      ]
     },
     "execution_count": 23,
     "metadata": {},
     "output_type": "execute_result"
    }
   ],
   "source": [
    "Image(filename=dog_img)"
   ]
  },
  {
   "cell_type": "code",
   "execution_count": 24,
   "metadata": {
    "colab": {
     "base_uri": "https://localhost:8080/",
     "height": 54
    },
    "colab_type": "code",
    "id": "SLDHANW_HPVv",
    "outputId": "ef740530-3bb9-45f8-9e96-2f60524622dd"
   },
   "outputs": [
    {
     "name": "stdout",
     "output_type": "stream",
     "text": [
      "('cat', 0.9970092)\n",
      "('dog', 0.9999761069502711)\n"
     ]
    }
   ],
   "source": [
    "from tensorflow.keras.preprocessing import image\n",
    "\n",
    "def predict_image(img_path):\n",
    "    # Read the image and resize it\n",
    "    img = image.load_img(img_path, target_size=(height, width))\n",
    "    # Convert it to a Numpy array with target shape.\n",
    "    x = image.img_to_array(img)\n",
    "    # Reshape\n",
    "    x = x.reshape((1,) + x.shape)\n",
    "    x /= 255.\n",
    "    result = model.predict([x])[0][0]\n",
    "    if result > 0.5:\n",
    "        animal = \"cat\"\n",
    "    else:\n",
    "        animal = \"dog\"\n",
    "        result = 1 - result\n",
    "    return animal,result\n",
    "\n",
    "print(predict_image(cat_img))\n",
    "print(predict_image(dog_img))"
   ]
  },
  {
   "cell_type": "markdown",
   "metadata": {
    "colab_type": "text",
    "id": "ogB16XX3eXaN"
   },
   "source": [
    "## Download the model"
   ]
  },
  {
   "cell_type": "code",
   "execution_count": 31,
   "metadata": {
    "colab": {
     "base_uri": "https://localhost:8080/",
     "height": 35
    },
    "colab_type": "code",
    "id": "n1rvrVx3CVN0",
    "outputId": "aab036a8-9e6e-4ba2-9927-d4858bf8a229"
   },
   "outputs": [
    {
     "data": {
      "text/plain": [
       "(None, 150, 150, 3)"
      ]
     },
     "execution_count": 31,
     "metadata": {},
     "output_type": "execute_result"
    }
   ],
   "source": [
    "model.input_shape"
   ]
  },
  {
   "cell_type": "markdown",
   "metadata": {
    "colab_type": "text",
    "id": "j9O9mCbbVPWk"
   },
   "source": [
    "## Load the model"
   ]
  },
  {
   "cell_type": "code",
   "execution_count": 32,
   "metadata": {
    "colab": {},
    "colab_type": "code",
    "id": "rkBE5AZdwLki"
   },
   "outputs": [],
   "source": [
    "from efficientnet.layers import Swish, DropConnect\n",
    "from efficientnet.model import ConvKernalInitializer\n",
    "from tensorflow.keras.utils import get_custom_objects\n",
    "\n",
    "get_custom_objects().update({\n",
    "    'ConvKernalInitializer': ConvKernalInitializer,\n",
    "    'Swish': Swish,\n",
    "    'DropConnect':DropConnect\n",
    "})"
   ]
  },
  {
   "cell_type": "code",
   "execution_count": 33,
   "metadata": {
    "colab": {},
    "colab_type": "code",
    "id": "pURT5B8uVFgq"
   },
   "outputs": [],
   "source": [
    "from tensorflow.keras.models import load_model\n",
    "model = load_model(\"./models/cats_and_dogs_small.h5\")"
   ]
  },
  {
   "cell_type": "code",
   "execution_count": null,
   "metadata": {},
   "outputs": [],
   "source": []
  }
 ],
 "metadata": {
  "accelerator": "GPU",
  "colab": {
   "collapsed_sections": [],
   "name": "Keras_efficientnet_transfer_learning.ipynb",
   "provenance": []
  },
  "kernelspec": {
   "display_name": "eff",
   "language": "python",
   "name": "eff"
  },
  "language_info": {
   "codemirror_mode": {
    "name": "ipython",
    "version": 3
   },
   "file_extension": ".py",
   "mimetype": "text/x-python",
   "name": "python",
   "nbconvert_exporter": "python",
   "pygments_lexer": "ipython3",
   "version": "3.6.9"
  }
 },
 "nbformat": 4,
 "nbformat_minor": 1
}
