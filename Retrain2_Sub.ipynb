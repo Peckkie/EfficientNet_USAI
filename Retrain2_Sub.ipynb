{
 "cells": [
  {
   "cell_type": "code",
   "execution_count": null,
   "metadata": {},
   "outputs": [],
   "source": [
    "from tensorflow.keras import models\n",
    "from tensorflow.keras import layers\n",
    "from tensorflow.keras import optimizers\n",
    "import os\n",
    "import glob\n",
    "import shutil\n",
    "import sys\n",
    "import numpy as np\n",
    "from skimage.io import imread\n",
    "import matplotlib.pyplot as plt\n",
    "from IPython.display import Image\n",
    "from tensorflow.keras import callbacks\n",
    "%matplotlib inline\n",
    "\n",
    "#Setting parameter\n",
    "batch_size = 50 #จำนวน data ที่ส่งไป Train ในแต่ละครั้ง \n",
    "width = 150 \n",
    "height = 150 \n",
    "input_shape = (height, width, 3) #ขนาด image enter\n",
    "epochs = 2000  #จำนวนรอบในการ Train\n",
    "NUM_TRAIN = 2914# จำนวนภาพ Train\n",
    "NUM_TEST = 125 #จำนวนภาพ Test\n",
    "dropout_rate = 0.2 "
   ]
  },
  {
   "cell_type": "code",
   "execution_count": null,
   "metadata": {},
   "outputs": [],
   "source": []
  },
  {
   "cell_type": "code",
   "execution_count": null,
   "metadata": {},
   "outputs": [],
   "source": []
  },
  {
   "cell_type": "code",
   "execution_count": null,
   "metadata": {},
   "outputs": [],
   "source": []
  },
  {
   "cell_type": "code",
   "execution_count": null,
   "metadata": {},
   "outputs": [],
   "source": []
  },
  {
   "cell_type": "code",
   "execution_count": null,
   "metadata": {},
   "outputs": [],
   "source": []
  }
 ],
 "metadata": {
  "kernelspec": {
   "display_name": "eff",
   "language": "python",
   "name": "eff"
  },
  "language_info": {
   "codemirror_mode": {
    "name": "ipython",
    "version": 3
   },
   "file_extension": ".py",
   "mimetype": "text/x-python",
   "name": "python",
   "nbconvert_exporter": "python",
   "pygments_lexer": "ipython3",
   "version": "3.6.9"
  }
 },
 "nbformat": 4,
 "nbformat_minor": 4
}
