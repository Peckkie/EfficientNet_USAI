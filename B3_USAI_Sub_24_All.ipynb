{
 "cells": [
  {
   "cell_type": "markdown",
   "metadata": {},
   "source": [
    "# Clone efficientnet repo"
   ]
  },
  {
   "cell_type": "code",
   "execution_count": 1,
   "metadata": {},
   "outputs": [
    {
     "name": "stdout",
     "output_type": "stream",
     "text": [
      "content\r\n"
     ]
    }
   ],
   "source": [
    "import os\n",
    "# os.path.abspath('/media/tohn/SSD/Efficient_USAI')\n",
    "os.chdir('/media/tohn/SSD/FP_All_Nor_Abnor_B3sub_25')\n",
    "!ls"
   ]
  },
  {
   "cell_type": "code",
   "execution_count": 2,
   "metadata": {},
   "outputs": [
    {
     "name": "stdout",
     "output_type": "stream",
     "text": [
      "/media/tohn/SSD/FP_All_Nor_Abnor_B3sub_25/content\n",
      "Cloning into 'efficientnet_keras_transfer_learning'...\n",
      "remote: Enumerating objects: 176, done.\u001b[K\n",
      "remote: Counting objects: 100% (176/176), done.\u001b[K\n",
      "remote: Compressing objects: 100% (78/78), done.\u001b[K\n",
      "remote: Total 176 (delta 102), reused 164 (delta 94), pack-reused 0\u001b[K\n",
      "Receiving objects: 100% (176/176), 5.44 MiB | 1.59 MiB/s, done.\n",
      "Resolving deltas: 100% (102/102), done.\n",
      "/media/tohn/SSD/FP_All_Nor_Abnor_B3sub_25/content/efficientnet_keras_transfer_learning\n"
     ]
    }
   ],
   "source": [
    "import os\n",
    "%cd content\n",
    "if not os.path.isdir(\"efficientnet_keras_transfer_learning\"):\n",
    "  !git clone https://github.com/Peckkie/efficientnet_keras_transfer_learning.git\n",
    "%cd efficientnet_keras_transfer_learning/"
   ]
  },
  {
   "cell_type": "code",
   "execution_count": null,
   "metadata": {},
   "outputs": [],
   "source": []
  },
  {
   "cell_type": "code",
   "execution_count": null,
   "metadata": {},
   "outputs": [],
   "source": []
  }
 ],
 "metadata": {
  "kernelspec": {
   "display_name": "eff",
   "language": "python",
   "name": "eff"
  },
  "language_info": {
   "codemirror_mode": {
    "name": "ipython",
    "version": 3
   },
   "file_extension": ".py",
   "mimetype": "text/x-python",
   "name": "python",
   "nbconvert_exporter": "python",
   "pygments_lexer": "ipython3",
   "version": "3.6.9"
  }
 },
 "nbformat": 4,
 "nbformat_minor": 4
}
